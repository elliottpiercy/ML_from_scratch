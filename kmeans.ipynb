{
 "cells": [
  {
   "cell_type": "code",
   "execution_count": 1,
   "metadata": {},
   "outputs": [],
   "source": [
    "import numpy as np\n",
    "import matplotlib.pyplot as plt"
   ]
  },
  {
   "cell_type": "code",
   "execution_count": 2,
   "metadata": {},
   "outputs": [],
   "source": [
    "class KMeans:\n",
    "    \n",
    "    def __init__(self,k=2):\n",
    "        self.k = k\n",
    "\n",
    "    def dist(self,x,y):\n",
    "        return np.sqrt((x-y)**2)\n",
    "\n",
    "    def plot_cluster(self,result):\n",
    "        colour = ['b','g','r','c','m','y','k','w']\n",
    "        for i in range(result.shape[0]):\n",
    "            plt.plot(i,result[:,0][i],'.',color=colour[result[:,1].astype(int)[i]])\n",
    "            \n",
    "    def fit(self,points,plot=True):\n",
    "        not_converged = True\n",
    "        centroids = np.random.normal(np.mean(points),1,(self.k,))\n",
    "        assignment = np.array([0])\n",
    "        while not_converged:\n",
    "            \n",
    "            new_assignment = np.array([])\n",
    "            for near in range(len(points)):\n",
    "\n",
    "                nearest = np.where(self.dist(points[near],centroids) == np.min(self.dist(points[near],centroids)))[0][0]\n",
    "                new_assignment = np.append(new_assignment,nearest)\n",
    "                \n",
    "            if (new_assignment==assignment).all():\n",
    "                not_converged = False\n",
    "            assignment = new_assignment\n",
    "\n",
    "            new_cent = np.array([])\n",
    "            for cent in range(self.k):     \n",
    "                new_cent = np.append(new_cent,np.mean(points[np.where(assignment == cent)[0]]))\n",
    "            centroids = new_cent\n",
    "        result =  np.concatenate((np.atleast_2d(points),np.atleast_2d(assignment))).T\n",
    "\n",
    "        if plot:\n",
    "            self.plot_cluster(result)\n",
    "\n",
    "        return result"
   ]
  },
  {
   "cell_type": "code",
   "execution_count": 3,
   "metadata": {},
   "outputs": [
    {
     "data": {
      "image/png": "[encoded data removed]",
      "text/plain": [
       "<Figure size 432x288 with 1 Axes>"
      ]
     },
     "metadata": {},
     "output_type": "display_data"
    }
   ],
   "source": [
    "k = 2\n",
    "points = np.random.normal(0,1,(150,))\n",
    "kmeans = KMeans(k)\n",
    "result = kmeans.fit(points,plot=True)\n",
    "\n",
    "\n"
   ]
  },
  {
   "cell_type": "code",
   "execution_count": null,
   "metadata": {},
   "outputs": [],
   "source": []
  },
  {
   "cell_type": "code",
   "execution_count": null,
   "metadata": {},
   "outputs": [],
   "source": []
  },
  {
   "cell_type": "code",
   "execution_count": null,
   "metadata": {},
   "outputs": [],
   "source": []
  },
  {
   "cell_type": "code",
   "execution_count": null,
   "metadata": {},
   "outputs": [],
   "source": []
  },
  {
   "cell_type": "code",
   "execution_count": null,
   "metadata": {},
   "outputs": [],
   "source": []
  },
  {
   "cell_type": "code",
   "execution_count": null,
   "metadata": {},
   "outputs": [],
   "source": []
  }
 ],
 "metadata": {
  "kernelspec": {
   "display_name": "Python 3",
   "language": "python",
   "name": "python3"
  },
  "language_info": {
   "codemirror_mode": {
    "name": "ipython",
    "version": 3
   },
   "file_extension": ".py",
   "mimetype": "text/x-python",
   "name": "python",
   "nbconvert_exporter": "python",
   "pygments_lexer": "ipython3",
   "version": "3.6.6"
  }
 },
 "nbformat": 4,
 "nbformat_minor": 2
}
