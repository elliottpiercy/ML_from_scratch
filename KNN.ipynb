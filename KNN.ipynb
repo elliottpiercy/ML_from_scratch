{
 "cells": [
  {
   "cell_type": "code",
   "execution_count": 1,
   "metadata": {},
   "outputs": [],
   "source": [
    "import numpy as np\n",
    "import scipy"
   ]
  },
  {
   "cell_type": "code",
   "execution_count": 13,
   "metadata": {},
   "outputs": [],
   "source": [
    "class KNN:\n",
    "    \n",
    "    def __init__(self,k=3,prediction = np.array([])):\n",
    "        self.k = k\n",
    "        self.prediction = prediction\n",
    "        \n",
    "    def euclidean(self,x,y):\n",
    "        return scipy.spatial.distance.euclidean(x,y)\n",
    "\n",
    "    def classify(self,x,y,class_x):\n",
    "        if self.k>len(x):\n",
    "            raise Exception('K cant be greater than the number of training examples')\n",
    "        distance = np.array([])\n",
    "        for i in range(len(x)):\n",
    "            for j in range(len(y)):\n",
    "                distance = np.append(distance,self.euclidean(x[i],y[j]))\n",
    "        distance = np.reshape(distance,(len(x),len(y))).T\n",
    "        \n",
    "        for loc in range(distance.shape[0]):\n",
    "            arranged = np.argsort(distance[loc])[:self.k]\n",
    "            count = np.argmax(np.bincount(class_x[arranged]))\n",
    "            self.prediction = np.append(self.prediction,count)\n",
    "        return self.prediction\n",
    "    \n",
    "    \n",
    "    def calculate_error(self,class_y):\n",
    "        count = len(np.where(self.prediction==class_y)[0])\n",
    "        return (count/len(class_y))*100\n"
   ]
  },
  {
   "cell_type": "code",
   "execution_count": 15,
   "metadata": {},
   "outputs": [],
   "source": [
    "x = np.array([14,6,2,3,9,1])\n",
    "y = np.array([5,3,7,32,6,8])\n",
    "class_x = np.array([0,0,0,1,0,1])\n",
    "true_y = np.array([1,1,0,0,0,0])"
   ]
  },
  {
   "cell_type": "code",
   "execution_count": 16,
   "metadata": {},
   "outputs": [
    {
     "data": {
      "text/plain": [
       "83.33333333333334"
      ]
     },
     "execution_count": 16,
     "metadata": {},
     "output_type": "execute_result"
    }
   ],
   "source": [
    "k = KNN()\n",
    "pred = k.classify(x,y,class_x)\n",
    "k.calculate_error(true_y)"
   ]
  },
  {
   "cell_type": "code",
   "execution_count": null,
   "metadata": {},
   "outputs": [],
   "source": []
  }
 ],
 "metadata": {
  "kernelspec": {
   "display_name": "Python 3",
   "language": "python",
   "name": "python3"
  },
  "language_info": {
   "codemirror_mode": {
    "name": "ipython",
    "version": 3
   },
   "file_extension": ".py",
   "mimetype": "text/x-python",
   "name": "python",
   "nbconvert_exporter": "python",
   "pygments_lexer": "ipython3",
   "version": "3.6.6"
  }
 },
 "nbformat": 4,
 "nbformat_minor": 2
}
